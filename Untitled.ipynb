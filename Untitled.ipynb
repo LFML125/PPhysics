{
 "cells": [
  {
   "cell_type": "code",
   "execution_count": null,
   "id": "d6871808-373c-4ce0-9798-4e324a392ab3",
   "metadata": {},
   "outputs": [
    {
     "name": "stdin",
     "output_type": "stream",
     "text": [
      "Enter a number:  50\n"
     ]
    },
    {
     "name": "stdout",
     "output_type": "stream",
     "text": [
      "High\n"
     ]
    }
   ],
   "source": [
    "import random # Para importar la libreria random \n",
    "import winsound  # Para hacer sonidos en Windows\n",
    "\n",
    "# Función para hacer un sonido\n",
    "def hacer_sonido(bueno=True):\n",
    "    if bueno:\n",
    "        # Sonido para cuando el jugador adivina correctamente\n",
    "        winsound.Beep(1000, 500)  # Para hacer un sonido con Frecuencia 1000 Hz, y duración 500 ms\n",
    "    else:\n",
    "        # Sonido para cuando el jugador adivina incorrectamente\n",
    "        winsound.Beep(400, 500)   # Frecuencia 400 Hz, duración 500 ms\n",
    "\n",
    "random_number = random.randint(1, 100) # Para crear el numero aleatorio \n",
    "\n",
    "while True:\n",
    "    try:\n",
    "        guess = int(input(\"Enter a number from 1 -100: \")) # Indica al jugador que tiene que ingresar un numero\n",
    "        if guess < random_number:\n",
    "            print(\"Low\") # Para poner low si el numero es muy bajo\n",
    "            hacer_sonido(bueno=False)\n",
    "        elif guess > random_number:\n",
    "            print(\"High\") # Para poner High si el numero es muy alto \n",
    "            hacer_sonido(bueno=False)\n",
    "        else:\n",
    "            print(\"You Win\")\n",
    "            hacer_sonido(bueno=True)\n",
    "            break  # Salir del bucle cuando el jugador adivina correctamente\n",
    "    except ValueError:\n",
    "        print(\"Please enter a valid integer.\") # Por si el jugador no pone un numero integro "
   ]
  },
  {
   "cell_type": "code",
   "execution_count": null,
   "id": "b7fedeb7-3478-4385-9ded-b778aaed7bc4",
   "metadata": {},
   "outputs": [],
   "source": []
  },
  {
   "cell_type": "code",
   "execution_count": null,
   "id": "3cea5e07-a57d-4e01-a24e-62e1d8e8c2cc",
   "metadata": {},
   "outputs": [],
   "source": []
  }
 ],
 "metadata": {
  "kernelspec": {
   "display_name": "Python [conda env:base] *",
   "language": "python",
   "name": "conda-base-py"
  },
  "language_info": {
   "codemirror_mode": {
    "name": "ipython",
    "version": 3
   },
   "file_extension": ".py",
   "mimetype": "text/x-python",
   "name": "python",
   "nbconvert_exporter": "python",
   "pygments_lexer": "ipython3",
   "version": "3.12.7"
  }
 },
 "nbformat": 4,
 "nbformat_minor": 5
}
