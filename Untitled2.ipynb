{
 "cells": [
  {
   "cell_type": "code",
   "execution_count": 26,
   "id": "86c2c867-f268-4e61-99d2-2f5dbbd86493",
   "metadata": {},
   "outputs": [
    {
     "name": "stdout",
     "output_type": "stream",
     "text": [
      "Estimated Pi: 3.14158444\n"
     ]
    }
   ],
   "source": [
    "import random \n",
    "num_samples = 100000000\n",
    "inside_circle = 0 \n",
    "\n",
    "for i in range(num_samples):\n",
    "    x = random.uniform(-1,1)\n",
    "    y = random.uniform(-1,1)\n",
    "    if x**2 + y**2 <= 1:\n",
    "        inside_circle += 1\n",
    "\n",
    "pi_estimate = 4 * inside_circle / num_samples\n",
    "print(f\"Estimated Pi: {pi_estimate}\")"
   ]
  },
  {
   "cell_type": "code",
   "execution_count": null,
   "id": "779bf5e8-2967-4c50-ab4a-ae6c1916cc1b",
   "metadata": {},
   "outputs": [],
   "source": []
  },
  {
   "cell_type": "code",
   "execution_count": null,
   "id": "028cdcab-a73d-4358-8538-4c760aab7b14",
   "metadata": {},
   "outputs": [],
   "source": []
  },
  {
   "cell_type": "code",
   "execution_count": null,
   "id": "bdf98cb7-f84d-4884-ae02-ee1955844ffb",
   "metadata": {},
   "outputs": [],
   "source": []
  }
 ],
 "metadata": {
  "kernelspec": {
   "display_name": "Python [conda env:base] *",
   "language": "python",
   "name": "conda-base-py"
  },
  "language_info": {
   "codemirror_mode": {
    "name": "ipython",
    "version": 3
   },
   "file_extension": ".py",
   "mimetype": "text/x-python",
   "name": "python",
   "nbconvert_exporter": "python",
   "pygments_lexer": "ipython3",
   "version": "3.12.7"
  }
 },
 "nbformat": 4,
 "nbformat_minor": 5
}
